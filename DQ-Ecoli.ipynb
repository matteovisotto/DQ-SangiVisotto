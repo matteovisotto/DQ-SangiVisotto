{
 "cells": [
  {
   "cell_type": "code",
   "execution_count": 56,
   "metadata": {
    "collapsed": true
   },
   "outputs": [],
   "source": [
    "import pandas as pd\n",
    "from Scripts.dirty_accuracy import injection\n",
    "from sklearn.neighbors import KNeighborsClassifier, NearestNeighbors\n",
    "from sklearn.model_selection import train_test_split\n",
    "from sklearn.metrics import accuracy_score"
   ]
  },
  {
   "cell_type": "code",
   "execution_count": 57,
   "outputs": [
    {
     "name": "stdout",
     "output_type": "stream",
     "text": [
      "saved ecoli-accuracy50%\n",
      "saved ecoli-accuracy60%\n",
      "saved ecoli-accuracy70%\n",
      "saved ecoli-accuracy80%\n",
      "saved ecoli-accuracy90%\n"
     ]
    }
   ],
   "source": [
    "ecoli = pd.read_csv(\"datasets/ecoli.csv\", sep=',')\n",
    "#remove id\n",
    "ecoli = ecoli.drop('1', axis=1)\n",
    "ecoli_list = injection(df_pandas=ecoli, seed=10, name='ecoli', name_class='class')\n",
    "ecoli_list.append(ecoli)\n",
    "ecoli_list.reverse()"
   ],
   "metadata": {
    "collapsed": false
   }
  },
  {
   "cell_type": "markdown",
   "source": [
    "Performing KNeighbors Machine Learning classification"
   ],
   "metadata": {
    "collapsed": false
   }
  },
  {
   "cell_type": "code",
   "execution_count": 59,
   "outputs": [
    {
     "name": "stdout",
     "output_type": "stream",
     "text": [
      "1 : [1.0, 0.6488095238095238]\n",
      "2 : [0.9136904761904762, 0.6220238095238095]\n",
      "3 : [0.9047619047619048, 0.625]\n",
      "4 : [0.8869047619047619, 0.6071428571428571]\n",
      "5 : [0.8958333333333334, 0.6309523809523809]\n",
      "6 : [0.8898809523809523, 0.625]\n",
      "7 : [0.8958333333333334, 0.6190476190476191]\n",
      "8 : [0.8898809523809523, 0.6220238095238095]\n",
      "9 : [0.8809523809523809, 0.6190476190476191]\n",
      "10 : [0.8809523809523809, 0.6190476190476191]\n",
      "11 : [0.8779761904761905, 0.6220238095238095]\n",
      "12 : [0.875, 0.6130952380952381]\n",
      "13 : [0.8720238095238095, 0.6041666666666666]\n",
      "14 : [0.8690476190476191, 0.6101190476190477]\n",
      "15 : [0.8660714285714286, 0.625]\n",
      "16 : [0.8601190476190477, 0.6160714285714286]\n",
      "17 : [0.8690476190476191, 0.6279761904761905]\n",
      "18 : [0.8720238095238095, 0.6339285714285714]\n",
      "19 : [0.8571428571428571, 0.6309523809523809]\n"
     ]
    }
   ],
   "source": [
    "y = ecoli['class']\n",
    "X = ecoli_list[1].drop('class', axis=1)\n",
    "#X_train, X_test, y_train, y_test = train_test_split(X, y, test_size = 0.3, random_state = 0)\n",
    "\n",
    "X_test = X\n",
    "y_test = y\n",
    "X_train = ecoli.drop('class', axis=1)\n",
    "y_train = y\n",
    "\n",
    "K = []\n",
    "training = []\n",
    "test = []\n",
    "scores = {}\n",
    "\n",
    "for k in range(1, 20):\n",
    "    clf = KNeighborsClassifier(n_neighbors = k)\n",
    "    clf.fit(X_train, y_train)\n",
    "\n",
    "    training_score = clf.score(X_train, y_train)\n",
    "    test_score = clf.score(X_test, y_test)\n",
    "    K.append(k)\n",
    "\n",
    "    training.append(training_score)\n",
    "    test.append(test_score)\n",
    "    scores[k] = [training_score, test_score]\n",
    "\n",
    "for keys, values in scores.items():\n",
    "    print(keys, ':', values)"
   ],
   "metadata": {
    "collapsed": false
   }
  },
  {
   "cell_type": "code",
   "execution_count": null,
   "outputs": [],
   "source": [],
   "metadata": {
    "collapsed": false
   }
  }
 ],
 "metadata": {
  "kernelspec": {
   "display_name": "Python 3",
   "language": "python",
   "name": "python3"
  },
  "language_info": {
   "codemirror_mode": {
    "name": "ipython",
    "version": 2
   },
   "file_extension": ".py",
   "mimetype": "text/x-python",
   "name": "python",
   "nbconvert_exporter": "python",
   "pygments_lexer": "ipython2",
   "version": "2.7.6"
  }
 },
 "nbformat": 4,
 "nbformat_minor": 0
}
