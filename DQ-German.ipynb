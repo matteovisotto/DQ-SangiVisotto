{
 "cells": [
  {
   "cell_type": "code",
   "execution_count": 10,
   "metadata": {
    "collapsed": true
   },
   "outputs": [],
   "source": [
    "import pandas as pd\n",
    "from Scripts.dirty_accuracy import injection"
   ]
  },
  {
   "cell_type": "code",
   "execution_count": 11,
   "outputs": [
    {
     "name": "stdout",
     "output_type": "stream",
     "text": [
      "saved german-accuracy50%\n",
      "saved german-accuracy60%\n",
      "saved german-accuracy70%\n",
      "saved german-accuracy80%\n",
      "saved german-accuracy90%\n"
     ]
    },
    {
     "data": {
      "text/plain": "18424"
     },
     "execution_count": 11,
     "metadata": {},
     "output_type": "execute_result"
    }
   ],
   "source": [
    "german = pd.read_csv(\"datasets/german.csv\", sep=',')\n",
    "german_list = injection(df_pandas=german, seed=10, name='german', name_class='Risk')\n",
    "german_list.append(german)\n",
    "german_list.reverse()"
   ],
   "metadata": {
    "collapsed": false
   }
  },
  {
   "cell_type": "markdown",
   "source": [
    "german_list[0] is the cleanest (accuracy 100%), german_list[5] is the dirtiest (accuracy 50%)"
   ],
   "metadata": {
    "collapsed": false
   }
  },
  {
   "cell_type": "code",
   "execution_count": 12,
   "outputs": [
    {
     "data": {
      "text/plain": "          Age     Sex        Job Housing Saving_accounts Checking_account  \\\n0   67.000000    male -21.765475     own          little           little   \n1  182.120528  female   2.000000     own          little         moderate   \n2   49.000000    male  23.605008     own          little           little   \n3   45.000000    male   2.000000    free          little           little   \n4  614.832117    male   9.776082    free          little           little   \n\n   Credit_amount    Duration              Purpose  Risk  \n0    1169.000000    6.000000             radio/TV  good  \n1    5951.000000  510.231018             radio/TV   bad  \n2    2096.000000   12.000000            education  good  \n3  -70759.050483  419.751074  furniture/equipment  good  \n4 -177555.737614   24.000000                  car   bad  ",
      "text/html": "<div>\n<style scoped>\n    .dataframe tbody tr th:only-of-type {\n        vertical-align: middle;\n    }\n\n    .dataframe tbody tr th {\n        vertical-align: top;\n    }\n\n    .dataframe thead th {\n        text-align: right;\n    }\n</style>\n<table border=\"1\" class=\"dataframe\">\n  <thead>\n    <tr style=\"text-align: right;\">\n      <th></th>\n      <th>Age</th>\n      <th>Sex</th>\n      <th>Job</th>\n      <th>Housing</th>\n      <th>Saving_accounts</th>\n      <th>Checking_account</th>\n      <th>Credit_amount</th>\n      <th>Duration</th>\n      <th>Purpose</th>\n      <th>Risk</th>\n    </tr>\n  </thead>\n  <tbody>\n    <tr>\n      <th>0</th>\n      <td>67.000000</td>\n      <td>male</td>\n      <td>-21.765475</td>\n      <td>own</td>\n      <td>little</td>\n      <td>little</td>\n      <td>1169.000000</td>\n      <td>6.000000</td>\n      <td>radio/TV</td>\n      <td>good</td>\n    </tr>\n    <tr>\n      <th>1</th>\n      <td>182.120528</td>\n      <td>female</td>\n      <td>2.000000</td>\n      <td>own</td>\n      <td>little</td>\n      <td>moderate</td>\n      <td>5951.000000</td>\n      <td>510.231018</td>\n      <td>radio/TV</td>\n      <td>bad</td>\n    </tr>\n    <tr>\n      <th>2</th>\n      <td>49.000000</td>\n      <td>male</td>\n      <td>23.605008</td>\n      <td>own</td>\n      <td>little</td>\n      <td>little</td>\n      <td>2096.000000</td>\n      <td>12.000000</td>\n      <td>education</td>\n      <td>good</td>\n    </tr>\n    <tr>\n      <th>3</th>\n      <td>45.000000</td>\n      <td>male</td>\n      <td>2.000000</td>\n      <td>free</td>\n      <td>little</td>\n      <td>little</td>\n      <td>-70759.050483</td>\n      <td>419.751074</td>\n      <td>furniture/equipment</td>\n      <td>good</td>\n    </tr>\n    <tr>\n      <th>4</th>\n      <td>614.832117</td>\n      <td>male</td>\n      <td>9.776082</td>\n      <td>free</td>\n      <td>little</td>\n      <td>little</td>\n      <td>-177555.737614</td>\n      <td>24.000000</td>\n      <td>car</td>\n      <td>bad</td>\n    </tr>\n  </tbody>\n</table>\n</div>"
     },
     "execution_count": 12,
     "metadata": {},
     "output_type": "execute_result"
    }
   ],
   "source": [],
   "metadata": {
    "collapsed": false
   }
  }
 ],
 "metadata": {
  "kernelspec": {
   "display_name": "Python 3",
   "language": "python",
   "name": "python3"
  },
  "language_info": {
   "codemirror_mode": {
    "name": "ipython",
    "version": 2
   },
   "file_extension": ".py",
   "mimetype": "text/x-python",
   "name": "python",
   "nbconvert_exporter": "python",
   "pygments_lexer": "ipython2",
   "version": "2.7.6"
  }
 },
 "nbformat": 4,
 "nbformat_minor": 0
}
