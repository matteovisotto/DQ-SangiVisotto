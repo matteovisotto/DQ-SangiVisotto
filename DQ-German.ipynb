{
 "cells": [
  {
   "cell_type": "code",
   "execution_count": null,
   "metadata": {
    "collapsed": true
   },
   "outputs": [],
   "source": [
    "import pandas as pd\n",
    "from Scripts.dirty_accuracy import injection\n",
    "from sklearn.tree import DecisionTreeClassifier\n",
    "from sklearn.model_selection import train_test_split\n",
    "from sklearn.metrics import accuracy_score"
   ]
  },
  {
   "cell_type": "code",
   "execution_count": null,
   "outputs": [],
   "source": [
    "german = pd.read_csv(\"datasets/german.csv\", sep=',')\n",
    "german_list = injection(df_pandas=german, seed=10, name='german', name_class='Risk')\n",
    "german_list.append(german)\n",
    "german_list.reverse()\n",
    "german"
   ],
   "metadata": {
    "collapsed": false
   }
  },
  {
   "cell_type": "markdown",
   "source": [
    "german_list[0] is the cleanest (accuracy 100%), german_list[5] is the dirtiest (accuracy 50%)"
   ],
   "metadata": {
    "collapsed": false
   }
  },
  {
   "cell_type": "markdown",
   "source": [],
   "metadata": {
    "collapsed": false
   }
  },
  {
   "cell_type": "code",
   "execution_count": null,
   "outputs": [],
   "source": [
    "def DTreeClassifier(X_train, y_train, X_test, y_test):\n",
    "    K = []\n",
    "    training = []\n",
    "    test = []\n",
    "    scores = {}\n",
    "\n",
    "    for k in range(1, 20):\n",
    "        clf = DecisionTreeClassifier()\n",
    "        clf.fit(X_train, y_train)\n",
    "\n",
    "        training_score = clf.score(X_train, y_train)\n",
    "        test_score = clf.score(X_test, y_test)\n",
    "        K.append(k)\n",
    "\n",
    "        training.append(training_score)\n",
    "        test.append(test_score)\n",
    "        scores[k] = [training_score, test_score]\n",
    "\n",
    "    return scores"
   ],
   "metadata": {
    "collapsed": false
   }
  }
 ],
 "metadata": {
  "kernelspec": {
   "display_name": "Python 3",
   "language": "python",
   "name": "python3"
  },
  "language_info": {
   "codemirror_mode": {
    "name": "ipython",
    "version": 2
   },
   "file_extension": ".py",
   "mimetype": "text/x-python",
   "name": "python",
   "nbconvert_exporter": "python",
   "pygments_lexer": "ipython2",
   "version": "2.7.6"
  }
 },
 "nbformat": 4,
 "nbformat_minor": 0
}
