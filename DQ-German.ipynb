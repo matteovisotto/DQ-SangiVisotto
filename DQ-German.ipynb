{
 "cells": [
  {
   "cell_type": "code",
   "execution_count": 83,
   "metadata": {
    "collapsed": true
   },
   "outputs": [],
   "source": [
    "import pandas as pd\n",
    "import seaborn as sns\n",
    "\n",
    "from Scripts.dirty_accuracy import injection\n",
    "from sklearn.tree import DecisionTreeClassifier\n",
    "from sklearn.model_selection import train_test_split\n",
    "from sklearn.metrics import accuracy_score"
   ]
  },
  {
   "cell_type": "markdown",
   "source": [
    "## Helper functions"
   ],
   "metadata": {
    "collapsed": false
   }
  },
  {
   "cell_type": "markdown",
   "source": [
    "Classifier functions"
   ],
   "metadata": {
    "collapsed": false
   }
  },
  {
   "cell_type": "markdown",
   "source": [
    "Decision Tree Classifier implementation\n",
    "## LO TENIAMO COSI'?"
   ],
   "metadata": {
    "collapsed": false
   }
  },
  {
   "cell_type": "code",
   "execution_count": 84,
   "outputs": [],
   "source": [
    "def DTreeClassification(X_train, y_train, X_test, y_test):\n",
    "    K = []\n",
    "    training = []\n",
    "    test = []\n",
    "    scores = {}\n",
    "\n",
    "    for k in range(1, 20):\n",
    "        clf = DecisionTreeClassifier()\n",
    "        clf.fit(X_train, y_train)\n",
    "\n",
    "        training_score = clf.score(X_train, y_train)\n",
    "        test_score = clf.score(X_test, y_test)\n",
    "        K.append(k)\n",
    "\n",
    "        training.append(training_score)\n",
    "        test.append(test_score)\n",
    "        scores[k] = [training_score, test_score]\n",
    "\n",
    "    return scores"
   ],
   "metadata": {
    "collapsed": false
   }
  },
  {
   "cell_type": "markdown",
   "source": [
    "Other Classifier implementation"
   ],
   "metadata": {
    "collapsed": false
   }
  },
  {
   "cell_type": "code",
   "execution_count": null,
   "outputs": [],
   "source": [
    "def secondClassification(X_train, y_train, X_test, y_test):\n",
    "    K = []\n",
    "    training = []\n",
    "    test = []\n",
    "    scores = {}\n",
    "\n",
    "    return scores"
   ],
   "metadata": {
    "collapsed": false
   }
  },
  {
   "cell_type": "markdown",
   "source": [
    "Print scores"
   ],
   "metadata": {
    "collapsed": false
   }
  },
  {
   "cell_type": "code",
   "execution_count": 85,
   "outputs": [],
   "source": [
    "def printScores(scores):\n",
    "    for score in scores:\n",
    "        print(\"Dataset dirty at: \", score['dirty'], \"%\")\n",
    "        print(score['scores'][0],':', score['scores'][1])"
   ],
   "metadata": {
    "collapsed": false
   }
  },
  {
   "cell_type": "markdown",
   "source": [
    "Plot scores"
   ],
   "metadata": {
    "collapsed": false
   }
  },
  {
   "cell_type": "code",
   "execution_count": 86,
   "outputs": [],
   "source": [
    "def plotScores(scores, title):\n",
    "    sns.set_palette(\"PuBuGn_d\")\n",
    "    for score in scores:\n",
    "        labels = list(score['scores'].keys())\n",
    "        labels.insert(0,0)\n",
    "        scoresDF = pd.DataFrame.from_dict(score['scores'], orient='index', columns=['Train '+str(score['dirty']), 'Test '+str(score['dirty'])])\n",
    "        plot = sns.lineplot(data=scoresDF)\n",
    "        plot.set_xticks(range(len(score['scores'])+1))\n",
    "        plot.set_xticklabels(labels)\n",
    "        plot.set_ylim(0.2,1.1)\n",
    "        plot.set(xlabel =\"N Neighbors\", ylabel = \"Performance\", title =title)\n",
    "        plot.legend(bbox_to_anchor=(1.05, 1), loc='upper left', borderaxespad=0)"
   ],
   "metadata": {
    "collapsed": false
   }
  },
  {
   "cell_type": "markdown",
   "source": [
    "First method detection and possibly correction"
   ],
   "metadata": {
    "collapsed": false
   }
  },
  {
   "cell_type": "code",
   "execution_count": null,
   "outputs": [],
   "source": [
    "def firstDetection(data):\n",
    "    return data"
   ],
   "metadata": {
    "collapsed": false
   }
  },
  {
   "cell_type": "markdown",
   "source": [
    "Second method detection and possibly correction"
   ],
   "metadata": {
    "collapsed": false
   }
  },
  {
   "cell_type": "code",
   "execution_count": null,
   "outputs": [],
   "source": [
    "def secondDetection(data):\n",
    "    return data"
   ],
   "metadata": {
    "collapsed": false
   }
  },
  {
   "cell_type": "markdown",
   "source": [
    "## Pipeline implementation\n"
   ],
   "metadata": {
    "collapsed": false
   }
  },
  {
   "cell_type": "markdown",
   "source": [
    "Read the dataset from CSV file"
   ],
   "metadata": {
    "collapsed": false
   }
  },
  {
   "cell_type": "code",
   "execution_count": 89,
   "outputs": [],
   "source": [
    "german = pd.read_csv(\"datasets/german.csv\", sep=',')"
   ],
   "metadata": {
    "collapsed": false
   }
  },
  {
   "cell_type": "markdown",
   "source": [
    "Perform the injections of outliers and append the original clean dataset to the list"
   ],
   "metadata": {
    "collapsed": false
   }
  },
  {
   "cell_type": "code",
   "execution_count": 90,
   "outputs": [
    {
     "name": "stdout",
     "output_type": "stream",
     "text": [
      "saved german-accuracy50%\n",
      "saved german-accuracy60%\n",
      "saved german-accuracy70%\n",
      "saved german-accuracy80%\n",
      "saved german-accuracy90%\n"
     ]
    }
   ],
   "source": [
    "german_list = injection(df_pandas=german, seed=10, name='german', name_class='Risk')\n",
    "german_list.append(german)"
   ],
   "metadata": {
    "collapsed": false
   }
  },
  {
   "cell_type": "markdown",
   "source": [
    "Reverse the list on order to have\n",
    "0 - Original Dataset\n",
    "1 - 10% Dirty dataset\n",
    "2 - 20% Dirty dataset\n",
    "3 - 30% Dirty dataset\n",
    "4 - 40% Dirty dataset\n",
    "5 - 50% Dirty dataset"
   ],
   "metadata": {
    "collapsed": false
   }
  },
  {
   "cell_type": "code",
   "execution_count": 91,
   "outputs": [],
   "source": [
    "german_list.reverse()"
   ],
   "metadata": {
    "collapsed": false
   }
  },
  {
   "cell_type": "markdown",
   "source": [
    "### Functions to be repeated for each dataframe\n"
   ],
   "metadata": {
    "collapsed": false
   }
  },
  {
   "cell_type": "markdown",
   "source": [
    "Data conversion map to change all categorical columns into numerical values"
   ],
   "metadata": {
    "collapsed": false
   }
  },
  {
   "cell_type": "code",
   "execution_count": null,
   "outputs": [],
   "source": [
    "def DCmap(df):\n",
    "    dataset = df.copy()\n",
    "    for col in dataset:\n",
    "        if dataset[col].dtype == object:\n",
    "            to_replace = dataset[col].unique()\n",
    "            value = []\n",
    "            for i in range (len(to_replace)):\n",
    "                value.append(i)\n",
    "            dataset[col] = dataset[col].replace(to_replace=to_replace, value=value)\n",
    "    return dataset"
   ],
   "metadata": {
    "collapsed": false
   }
  },
  {
   "cell_type": "code",
   "execution_count": 92,
   "outputs": [],
   "source": [
    "def computeScoresDT(dataframe_array):\n",
    "    y = german['Risk']\n",
    "    scores = []\n",
    "    i = 0\n",
    "    for df in dataframe_array:\n",
    "        X = df\n",
    "        X_train, X_test, y_train, y_test = train_test_split(X, y, test_size = 0.3, random_state = 0)\n",
    "        sc = DTreeClassification(X_train, y_train, X_test, y_test)\n",
    "        scores.append({'dirty': i, 'scores': sc})\n",
    "        i = i + 10\n",
    "    return scores"
   ],
   "metadata": {
    "collapsed": false
   }
  },
  {
   "cell_type": "code",
   "execution_count": null,
   "outputs": [],
   "source": [
    "def computeScoressecond(dataframe_array):\n",
    "    y = german['risk']\n",
    "    scores = []\n",
    "    i = 0\n",
    "    for df in dataframe_array:\n",
    "        X = df.drop('class', axis=1)\n",
    "        X_train, X_test, y_train, y_test = train_test_split(X, y, test_size = 0.3, random_state = 0)\n",
    "        sc = secondClassification(X_train, y_train, X_test, y_test)\n",
    "        scores.append({'dirty': i, 'scores': sc})\n",
    "        i = i + 10\n",
    "    return scores"
   ],
   "metadata": {
    "collapsed": false
   }
  },
  {
   "cell_type": "markdown",
   "source": [
    "### Performing Decision Tree Machine Learning classification\n",
    "Dataset preparation"
   ],
   "metadata": {
    "collapsed": false
   }
  },
  {
   "cell_type": "code",
   "execution_count": null,
   "outputs": [],
   "source": [
    "dtscores = computeScoresDT(german_list)\n",
    "printScores(dtscores)"
   ],
   "metadata": {
    "collapsed": false
   }
  },
  {
   "cell_type": "code",
   "execution_count": null,
   "outputs": [],
   "source": [
    "secondscore = computeScoressecond(german_list)\n",
    "printScores(secondscore)"
   ],
   "metadata": {
    "collapsed": false
   }
  },
  {
   "cell_type": "markdown",
   "source": [
    "Find outliers and use replace them"
   ],
   "metadata": {
    "collapsed": false
   }
  },
  {
   "cell_type": "code",
   "execution_count": null,
   "outputs": [],
   "source": [],
   "metadata": {
    "collapsed": false
   }
  },
  {
   "cell_type": "markdown",
   "source": [
    "Perform again the classification after outliers detection and print results"
   ],
   "metadata": {
    "collapsed": false
   }
  },
  {
   "cell_type": "code",
   "execution_count": null,
   "outputs": [],
   "source": [],
   "metadata": {
    "collapsed": false
   }
  },
  {
   "cell_type": "code",
   "execution_count": null,
   "outputs": [],
   "source": [
    "printScores()"
   ],
   "metadata": {
    "collapsed": false
   }
  },
  {
   "cell_type": "code",
   "execution_count": null,
   "outputs": [],
   "source": [
    "printScores()"
   ],
   "metadata": {
    "collapsed": false
   }
  },
  {
   "cell_type": "markdown",
   "source": [
    "### Plot data preparation\n"
   ],
   "metadata": {
    "collapsed": false
   }
  },
  {
   "cell_type": "code",
   "execution_count": null,
   "outputs": [],
   "source": [
    "def toArray(score):\n",
    "    t = []\n",
    "    for s in score:\n",
    "        t.append(s['scores'][1])\n",
    "    return t\n",
    "plotData = {\n",
    "    'dirty': [0, 10, 20, 30, 40, 50],\n",
    "    'knc_pre': toArray(knscores),\n",
    "    'gc_pre': toArray(gcscore),\n",
    "    'knc_zs_post': toArray(cleaned_knscores),\n",
    "    'gc_zs_post': toArray(cleaned_gcscores)\n",
    "}\n",
    "plotDF = pd.DataFrame(plotData)\n",
    "sns.set()\n",
    "fig, axes = plt.subplots(4, 1, sharex=False, figsize=(7,14))\n",
    "\n",
    "sns.lineplot(ax=axes[0], x='dirty', y='knc_pre', data=plotDF)\n",
    "sns.lineplot(ax=axes[0], x='dirty', y='knc_zs_post', data=plotDF)\n",
    "axes[0].legend(['Pre detection', 'Post detection'])\n",
    "axes[0].set(xlabel='Dirty percentage', ylabel='Performance')\n",
    "axes[0].set_ylim(0.2,1.1)\n",
    "axes[0].set_title('KNN + ZS')\n",
    "\n",
    "sns.lineplot(ax=axes[1], x='dirty', y='gc_pre', data=plotDF)\n",
    "sns.lineplot(ax=axes[1], x='dirty', y='gc_zs_post', data=plotDF)\n",
    "axes[1].legend(['Pre detection', 'Post detection'])\n",
    "axes[1].set(xlabel='Dirty percentage', ylabel='Performance')\n",
    "axes[1].set_ylim(0.2,1.1)\n",
    "axes[1].set_title('GC + ZS')\n",
    "\n",
    "axes[2].legend(['Pre detection', 'Post detection'])\n",
    "axes[2].set(xlabel='Dirty percentage', ylabel='Performance')\n",
    "axes[2].set_ylim(0.2,1.1)\n",
    "axes[2].set_title('KNN + Unknown')\n",
    "\n",
    "axes[3].legend(['Pre detection', 'Post detection'])\n",
    "axes[3].set(xlabel='Dirty percentage', ylabel='Performance')\n",
    "axes[3].set_ylim(0.2,1.1)\n",
    "axes[3].set_title('GC + Unknown')\n",
    "fig.tight_layout()"
   ],
   "metadata": {
    "collapsed": false
   }
  },
  {
   "cell_type": "code",
   "execution_count": null,
   "outputs": [],
   "source": [
    "sns.set()\n",
    "fig, axes = plt.subplots(3, 1, sharex=False, figsize=(7,18))\n",
    "\n",
    "sns.lineplot(ax=axes[0], x='dirty', y='knc_pre', data=plotDF)\n",
    "sns.lineplot(ax=axes[0], x='dirty', y='gc_pre', data=plotDF)\n",
    "axes[0].legend(['Pre detection KNC', 'Pre detection GC'])\n",
    "axes[0].set(xlabel='Dirty percentage', ylabel='Performance')\n",
    "axes[0].set_ylim(0.2,1.1)\n",
    "axes[0].set_title('Pre detection performances')\n",
    "\n",
    "sns.lineplot(ax=axes[1], x='dirty', y='knc_zs_post', data=plotDF)\n",
    "sns.lineplot(ax=axes[1], x='dirty', y='gc_zs_post', data=plotDF)\n",
    "axes[1].legend(['Post detection KNC', 'Post detection GC'])\n",
    "axes[1].set(xlabel='Dirty percentage', ylabel='Performance')\n",
    "axes[1].set_ylim(0.2,1.1)\n",
    "axes[1].set_title('Post detection (ZS) performances')\n",
    "\n",
    "#sns.lineplot(ax=axes[2], x='dirty', y='', data=plotDF)\n",
    "#sns.lineplot(ax=axes[2], x='dirty', y='', data=plotDF)\n",
    "axes[2].legend(['Post detection KNC', 'Post detection GC'])\n",
    "axes[2].set(xlabel='Dirty percentage', ylabel='Performance')\n",
    "axes[2].set_ylim(0.2,1.1)\n",
    "axes[2].set_title('Post detection (Unknown) performances')"
   ],
   "metadata": {
    "collapsed": false
   }
  }
 ],
 "metadata": {
  "kernelspec": {
   "display_name": "Python 3",
   "language": "python",
   "name": "python3"
  },
  "language_info": {
   "codemirror_mode": {
    "name": "ipython",
    "version": 2
   },
   "file_extension": ".py",
   "mimetype": "text/x-python",
   "name": "python",
   "nbconvert_exporter": "python",
   "pygments_lexer": "ipython2",
   "version": "2.7.6"
  }
 },
 "nbformat": 4,
 "nbformat_minor": 0
}
